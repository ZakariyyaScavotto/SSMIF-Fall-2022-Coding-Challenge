{
 "cells": [
  {
   "cell_type": "code",
   "execution_count": 15,
   "metadata": {},
   "outputs": [],
   "source": [
    "#imports for data manipulation/visualization\n",
    "import numpy as np\n",
    "import pandas as pd\n",
    "import matplotlib.pyplot as plt"
   ]
  },
  {
   "cell_type": "code",
   "execution_count": 16,
   "metadata": {},
   "outputs": [
    {
     "data": {
      "text/plain": [
       "Feature1      0\n",
       "Feature2      0\n",
       "Feature3      0\n",
       "Feature4    837\n",
       "Feature5      0\n",
       "Feature6      0\n",
       "Feature7     99\n",
       "Feature8      0\n",
       "Target       99\n",
       "dtype: int64"
      ]
     },
     "execution_count": 16,
     "metadata": {},
     "output_type": "execute_result"
    }
   ],
   "source": [
    "# read in data from csv file, don't need the date column so will remove\n",
    "df = pd.read_csv('ml_data.csv', usecols=['Feature1','Feature2','Feature3','Feature4','Feature5','Feature6','Feature7','Feature8','Target'])\n",
    "\n",
    "#see what each column looks like\n",
    "df.head()# \tFeature1 Feature2 Feature3 Feature4 Feature5 Feature6 Feature7 Feature8 Target\n",
    "#feature 3 is strings, need to convert to float\n",
    "df['Feature3'] = df['Feature3'].apply(lambda x: float(x.split()[0].replace('\\'','')))\n",
    "# check data types now to make sure there are no miscellaneous strings or objects that will throw off computations\n",
    "df.dtypes # float64, int64, float64, float64, float64, float64, float64, float64, float64\n",
    "\n",
    "#check for NaN values\n",
    "df.isna().sum() #  0, 0, 0, 837, 0, 0, 99, 0, 99\n"
   ]
  },
  {
   "cell_type": "code",
   "execution_count": 17,
   "metadata": {},
   "outputs": [
    {
     "data": {
      "image/png": "[encoded data removed]",
      "text/plain": [
       "<Figure size 432x288 with 1 Axes>"
      ]
     },
     "metadata": {
      "needs_background": "light"
     },
     "output_type": "display_data"
    }
   ],
   "source": [
    "# Plotting the features that make sense to plot to get a general feel for the shape/trend of each\n",
    "def plotFeature(feature):\n",
    "    df[feature].plot()\n",
    "#Feature1: very sporadic, no real trend as far as I can tell\n",
    "#Feature2: Not a lot of unique data, everything in 90-100 range over time, jumps up and down\n",
    "#Feature5: somewhat linear looking, kinda looks like a stock price of some sort\n",
    "#Feature6: somewhat linear in the same sense as feature5, but concave upish instead of 5's concave down\n",
    "#Feature7: very sporadic, similar trend by the looks of it to feature6\n",
    "#Feature8: very similar to feature5 by the looks of it\n",
    "#Target:has an exponential looking trend to it, closest to feature6 by the looks of it\n",
    "plotFeature('Target')"
   ]
  },
  {
   "cell_type": "code",
   "execution_count": 18,
   "metadata": {},
   "outputs": [
    {
     "data": {
      "text/plain": [
       "Feature1    0\n",
       "Feature2    0\n",
       "Feature3    0\n",
       "Feature4    0\n",
       "Feature5    0\n",
       "Feature6    0\n",
       "Feature7    0\n",
       "Feature8    0\n",
       "Target      0\n",
       "dtype: int64"
      ]
     },
     "execution_count": 18,
     "metadata": {},
     "output_type": "execute_result"
    }
   ],
   "source": [
    "'''For feature 7 and target, since the data is moving forward in time, will fill any missing gaps\n",
    "with with the mean of the values in-between, and since the first row is NaN will put in the value '''\n",
    "df['Feature7']=df['Feature7'].interpolate(method='linear', limit_direction ='forward')\n",
    "df['Target']=df['Target'].interpolate(method='linear', limit_direction ='forward')\n",
    "df.at[0,'Feature7'] = df.at[1,'Feature7']\n",
    "df.at[0,'Target'] = df.at[1,'Target']\n",
    "\n",
    "'''Looking through the CSV file for Feature 4, there are only specific values on specific days to start,\n",
    "which may indicate that feature is used for notifying if there was a major spike or dip in the market. \n",
    "Starting on 3/30/2015, that feature is full of 7s. So to compensate for the many days at the start where\n",
    "there are no values, will fill these NaN values with a 1 to act as a dummy value so the rest of that feature\n",
    "doesn't have to get thrown out over it. I have a hunch that feature is used as a very specific marker for the trend,\n",
    "so as of now I would hate to have to throw out the feature.'''\n",
    "df['Feature4']=df['Feature4'].replace(np.nan,1)\n",
    "df.isna().sum()"
   ]
  },
  {
   "cell_type": "code",
   "execution_count": 19,
   "metadata": {},
   "outputs": [
    {
     "name": "stdout",
     "output_type": "stream",
     "text": [
      "Feature1    0.111473\n",
      "Feature2   -0.030980\n",
      "Feature3    0.960788\n",
      "Feature4    0.409481\n",
      "Feature5    0.747800\n",
      "Feature6    0.991483\n",
      "Feature7    0.926291\n",
      "Feature8    0.782104\n",
      "Target      1.000000\n",
      "Name: Target, dtype: float64\n"
     ]
    },
    {
     "data": {
      "text/html": [
       "<div>\n",
       "<style scoped>\n",
       "    .dataframe tbody tr th:only-of-type {\n",
       "        vertical-align: middle;\n",
       "    }\n",
       "\n",
       "    .dataframe tbody tr th {\n",
       "        vertical-align: top;\n",
       "    }\n",
       "\n",
       "    .dataframe thead th {\n",
       "        text-align: right;\n",
       "    }\n",
       "</style>\n",
       "<table border=\"1\" class=\"dataframe\">\n",
       "  <thead>\n",
       "    <tr style=\"text-align: right;\">\n",
       "      <th></th>\n",
       "      <th>Feature3</th>\n",
       "      <th>Feature4</th>\n",
       "      <th>Feature5</th>\n",
       "      <th>Feature6</th>\n",
       "      <th>Feature7</th>\n",
       "      <th>Feature8</th>\n",
       "      <th>Target</th>\n",
       "    </tr>\n",
       "  </thead>\n",
       "  <tbody>\n",
       "    <tr>\n",
       "      <th>0</th>\n",
       "      <td>189.51</td>\n",
       "      <td>1.0</td>\n",
       "      <td>13.98</td>\n",
       "      <td>2245907.00</td>\n",
       "      <td>13.4953</td>\n",
       "      <td>111.226153</td>\n",
       "      <td>416.83</td>\n",
       "    </tr>\n",
       "    <tr>\n",
       "      <th>1</th>\n",
       "      <td>189.48</td>\n",
       "      <td>1.0</td>\n",
       "      <td>13.99</td>\n",
       "      <td>2282028.00</td>\n",
       "      <td>13.4953</td>\n",
       "      <td>111.721437</td>\n",
       "      <td>416.83</td>\n",
       "    </tr>\n",
       "    <tr>\n",
       "      <th>2</th>\n",
       "      <td>189.48</td>\n",
       "      <td>1.0</td>\n",
       "      <td>13.99</td>\n",
       "      <td>2287919.00</td>\n",
       "      <td>13.5303</td>\n",
       "      <td>111.272202</td>\n",
       "      <td>417.91</td>\n",
       "    </tr>\n",
       "    <tr>\n",
       "      <th>3</th>\n",
       "      <td>189.48</td>\n",
       "      <td>1.0</td>\n",
       "      <td>13.99</td>\n",
       "      <td>2300181.00</td>\n",
       "      <td>13.5992</td>\n",
       "      <td>114.116897</td>\n",
       "      <td>420.04</td>\n",
       "    </tr>\n",
       "    <tr>\n",
       "      <th>4</th>\n",
       "      <td>189.48</td>\n",
       "      <td>1.0</td>\n",
       "      <td>13.99</td>\n",
       "      <td>2303162.00</td>\n",
       "      <td>13.6141</td>\n",
       "      <td>113.592208</td>\n",
       "      <td>420.50</td>\n",
       "    </tr>\n",
       "    <tr>\n",
       "      <th>...</th>\n",
       "      <td>...</td>\n",
       "      <td>...</td>\n",
       "      <td>...</td>\n",
       "      <td>...</td>\n",
       "      <td>...</td>\n",
       "      <td>...</td>\n",
       "      <td>...</td>\n",
       "    </tr>\n",
       "    <tr>\n",
       "      <th>2779</th>\n",
       "      <td>426.86</td>\n",
       "      <td>7.0</td>\n",
       "      <td>26.83</td>\n",
       "      <td>9668392.81</td>\n",
       "      <td>25.8568</td>\n",
       "      <td>1339.113903</td>\n",
       "      <td>2444.95</td>\n",
       "    </tr>\n",
       "    <tr>\n",
       "      <th>2780</th>\n",
       "      <td>426.86</td>\n",
       "      <td>7.0</td>\n",
       "      <td>26.83</td>\n",
       "      <td>9545527.89</td>\n",
       "      <td>25.5268</td>\n",
       "      <td>1349.338215</td>\n",
       "      <td>2413.74</td>\n",
       "    </tr>\n",
       "    <tr>\n",
       "      <th>2781</th>\n",
       "      <td>426.86</td>\n",
       "      <td>7.0</td>\n",
       "      <td>26.83</td>\n",
       "      <td>9442941.29</td>\n",
       "      <td>25.2514</td>\n",
       "      <td>1354.650743</td>\n",
       "      <td>2387.70</td>\n",
       "    </tr>\n",
       "    <tr>\n",
       "      <th>2782</th>\n",
       "      <td>426.86</td>\n",
       "      <td>7.0</td>\n",
       "      <td>26.83</td>\n",
       "      <td>9350885.74</td>\n",
       "      <td>25.0084</td>\n",
       "      <td>1375.527183</td>\n",
       "      <td>2364.72</td>\n",
       "    </tr>\n",
       "    <tr>\n",
       "      <th>2783</th>\n",
       "      <td>426.86</td>\n",
       "      <td>7.0</td>\n",
       "      <td>26.83</td>\n",
       "      <td>9309341.79</td>\n",
       "      <td>24.8891</td>\n",
       "      <td>1342.447942</td>\n",
       "      <td>2353.44</td>\n",
       "    </tr>\n",
       "  </tbody>\n",
       "</table>\n",
       "<p>2784 rows × 7 columns</p>\n",
       "</div>"
      ],
      "text/plain": [
       "      Feature3  Feature4  Feature5    Feature6  Feature7     Feature8   Target\n",
       "0       189.51       1.0     13.98  2245907.00   13.4953   111.226153   416.83\n",
       "1       189.48       1.0     13.99  2282028.00   13.4953   111.721437   416.83\n",
       "2       189.48       1.0     13.99  2287919.00   13.5303   111.272202   417.91\n",
       "3       189.48       1.0     13.99  2300181.00   13.5992   114.116897   420.04\n",
       "4       189.48       1.0     13.99  2303162.00   13.6141   113.592208   420.50\n",
       "...        ...       ...       ...         ...       ...          ...      ...\n",
       "2779    426.86       7.0     26.83  9668392.81   25.8568  1339.113903  2444.95\n",
       "2780    426.86       7.0     26.83  9545527.89   25.5268  1349.338215  2413.74\n",
       "2781    426.86       7.0     26.83  9442941.29   25.2514  1354.650743  2387.70\n",
       "2782    426.86       7.0     26.83  9350885.74   25.0084  1375.527183  2364.72\n",
       "2783    426.86       7.0     26.83  9309341.79   24.8891  1342.447942  2353.44\n",
       "\n",
       "[2784 rows x 7 columns]"
      ]
     },
     "execution_count": 19,
     "metadata": {},
     "output_type": "execute_result"
    }
   ],
   "source": [
    "# Make correlation matrix to see which features are most correlated with the target\n",
    "corr = df.corr()['Target']\n",
    "print(corr)\n",
    "'''From here, can see that we want Features3-8 since they all feature a high correlation\n",
    "while the other features either have a small correlation(1) or negative(2)'''\n",
    "df.drop(['Feature1','Feature2'],axis=1)"
   ]
  },
  {
   "cell_type": "code",
   "execution_count": 20,
   "metadata": {},
   "outputs": [
    {
     "name": "stdout",
     "output_type": "stream",
     "text": [
      "2784\n",
      "2088\n",
      "696\n",
      "Done splitting data\n",
      "Done normalizing data\n"
     ]
    }
   ],
   "source": [
    "#Normalize data, split data between training and testing (75/25)\n",
    "train=df.sample(frac=0.75,random_state=42) #random state is a seed value\n",
    "test=df.drop(train.index)\n",
    "#checking that they add up\n",
    "print(df.shape[0])\n",
    "print(train.shape[0])\n",
    "print(test.shape[0])\n",
    "xTrain = train.loc[:,train.columns != 'Target'].values  \n",
    "yTrain = train.loc[:,train.columns == 'Target'].values\n",
    "xTest  = test.loc[:,test.columns != 'Target'].values \n",
    "yTest = test.loc[:,test.columns == 'Target'].values\n",
    "print('Done splitting data')\n",
    "#Need to normalize data to prevent overly large values from skewing the results\n",
    "xTrainNormalized = xTrain / np.linalg.norm(xTrain)\n",
    "yTrainNormalized = yTrain / np.linalg.norm(yTrain)\n",
    "xTestNormalized = xTest / np.linalg.norm(xTest)\n",
    "yTestNormalized = yTest / np.linalg.norm(yTest)\n",
    "print('Done normalizing data')"
   ]
  },
  {
   "cell_type": "markdown",
   "metadata": {},
   "source": [
    "Part 1: Linear Regression Model\n",
    "\n",
    "Because we are unsure about which features should have the strongest weighting and are the most significant to the regression, the regression should be made as a form of a stepwise regression to pick which features give the best results.\n",
    "\n",
    "References for understanding the concepts:\n",
    "https://www.investopedia.com/terms/s/stepwise-regression.asp\n",
    "https://machinelearningcompass.com/machine_learning_models/ridge_regression/\n",
    "https://machinelearningcompass.com/machine_learning_models/lasso_regression/\n",
    "\n",
    "References for learning how to code them (aka not just importing the model from a package):\n",
    "https://euanrussano.github.io/20190810linearRegressionNumpy/"
   ]
  },
  {
   "cell_type": "code",
   "execution_count": 21,
   "metadata": {},
   "outputs": [],
   "source": [
    "# Initialize starting set of parameters \n",
    "theta0 = np.zeros((xTrainNormalized.shape[1],1))+5\n",
    "\n",
    "# calculate gradient\n",
    "def grad(theta):\n",
    "    dJ = 1/len(xTrain)*np.sum((xTrainNormalized.dot(theta)-yTrainNormalized)*xTrainNormalized,axis=0).reshape(-1,1)\n",
    "    return dJ\n"
   ]
  },
  {
   "cell_type": "code",
   "execution_count": 22,
   "metadata": {},
   "outputs": [],
   "source": [
    "# cost function\n",
    "def cost(theta):\n",
    "    J = np.sum((xTrainNormalized.dot(theta)-yTrainNormalized)**2,axis=0)[0]\n",
    "    return J"
   ]
  },
  {
   "cell_type": "code",
   "execution_count": 23,
   "metadata": {},
   "outputs": [],
   "source": [
    "def GD(theta0,learning_rate = 0.5,epochs=100000,TOL=1e-7):\n",
    "    \n",
    "    theta_history = [theta0]\n",
    "    J_history = [cost(theta0)]\n",
    "    \n",
    "    thetanew = theta0*10000\n",
    "    print(f'epoch \\t Cost(J) \\t')\n",
    "    for epoch in range(epochs):\n",
    "        if epoch%100 == 0:\n",
    "            print(f'{epoch:5d}\\t{J_history[-1]:7.4f}\\t')\n",
    "        dJ = grad(theta0)\n",
    "        J = cost(theta0)\n",
    "        \n",
    "        thetanew = theta0 - learning_rate*dJ\n",
    "        theta_history.append(thetanew)\n",
    "        J_history.append(J)\n",
    "        if np.sum((thetanew - theta0)**2) < TOL:\n",
    "            print('Convergence achieved.')\n",
    "            break\n",
    "        theta0 = thetanew\n",
    "\n",
    "    return thetanew,theta_history,J_history\n"
   ]
  },
  {
   "cell_type": "code",
   "execution_count": 24,
   "metadata": {},
   "outputs": [
    {
     "name": "stdout",
     "output_type": "stream",
     "text": [
      "epoch \t Cost(J) \t\n",
      "    0\t16.0768\t\n",
      "  100\t15.3329\t\n",
      "  200\t14.6164\t\n",
      "  300\t13.9335\t\n",
      "  400\t13.2825\t\n",
      "  500\t12.6619\t\n",
      "  600\t12.0703\t\n",
      "  700\t11.5065\t\n",
      "  800\t10.9689\t\n",
      "  900\t10.4566\t\n",
      " 1000\t 9.9682\t\n",
      " 1100\t 9.5026\t\n",
      " 1200\t 9.0588\t\n",
      " 1300\t 8.6358\t\n",
      " 1400\t 8.2325\t\n",
      " 1500\t 7.8481\t\n",
      " 1600\t 7.4817\t\n",
      " 1700\t 7.1324\t\n",
      " 1800\t 6.7995\t\n",
      " 1900\t 6.4821\t\n",
      " 2000\t 6.1796\t\n",
      " 2100\t 5.8912\t\n",
      " 2200\t 5.6163\t\n",
      " 2300\t 5.3543\t\n",
      " 2400\t 5.1045\t\n",
      " 2500\t 4.8664\t\n",
      " 2600\t 4.6395\t\n",
      " 2700\t 4.4231\t\n",
      " 2800\t 4.2169\t\n",
      " 2900\t 4.0203\t\n",
      " 3000\t 3.8329\t\n",
      " 3100\t 3.6543\t\n",
      " 3200\t 3.4840\t\n",
      " 3300\t 3.3217\t\n",
      " 3400\t 3.1670\t\n",
      " 3500\t 3.0195\t\n",
      " 3600\t 2.8789\t\n",
      " 3700\t 2.7449\t\n",
      " 3800\t 2.6172\t\n",
      " 3900\t 2.4954\t\n",
      " 4000\t 2.3794\t\n",
      " 4100\t 2.2687\t\n",
      " 4200\t 2.1632\t\n",
      " 4300\t 2.0627\t\n",
      " 4400\t 1.9669\t\n",
      " 4500\t 1.8755\t\n",
      " 4600\t 1.7884\t\n",
      "Convergence achieved.\n"
     ]
    }
   ],
   "source": [
    "theta,theta_history,J_history = GD(theta0)"
   ]
  },
  {
   "cell_type": "code",
   "execution_count": 25,
   "metadata": {},
   "outputs": [
    {
     "data": {
      "text/plain": [
       "[<matplotlib.lines.Line2D at 0x171eacce8e0>]"
      ]
     },
     "execution_count": 25,
     "metadata": {},
     "output_type": "execute_result"
    },
    {
     "data": {
      "image/png": "[encoded data removed]",
      "text/plain": [
       "<Figure size 432x288 with 1 Axes>"
      ]
     },
     "metadata": {
      "needs_background": "light"
     },
     "output_type": "display_data"
    }
   ],
   "source": [
    "yprednorm = xTrainNormalized.dot(theta)\n",
    "maxy, miny = np.max(yTrainNormalized), np.min(yTrainNormalized)\n",
    "ypred = yprednorm*(maxy-miny) + miny\n",
    "sortidx = np.argsort(yTrainNormalized[:,0])\n",
    "plt.plot(yTrainNormalized[sortidx,0],'o')\n",
    "plt.plot(ypred[sortidx,0],'--')\n"
   ]
  },
  {
   "cell_type": "code",
   "execution_count": 26,
   "metadata": {},
   "outputs": [
    {
     "data": {
      "text/plain": [
       "[<matplotlib.lines.Line2D at 0x171c874c100>]"
      ]
     },
     "execution_count": 26,
     "metadata": {},
     "output_type": "execute_result"
    },
    {
     "data": {
      "image/png": "[encoded data removed]",
      "text/plain": [
       "<Figure size 432x288 with 1 Axes>"
      ]
     },
     "metadata": {
      "needs_background": "light"
     },
     "output_type": "display_data"
    }
   ],
   "source": [
    "#comparison to sklearn pre-trained LinearRegression model\n",
    "from sklearn.linear_model import LinearRegression\n",
    "testModel = LinearRegression()\n",
    "testModel.fit(xTrainNormalized, yTrainNormalized)\n",
    "yPred = testModel.predict(xTestNormalized)\n",
    "plt.plot(yTestNormalized)\n",
    "plt.plot(yPred)"
   ]
  },
  {
   "cell_type": "markdown",
   "metadata": {},
   "source": [
    "Part 2: Training any ML model on the data\n",
    "\n",
    "For this part of the problem, I opted to using a polynomial regression on the data (using the same data that was preprocessed and split for the first part). I decided to utilize a polynomial regression since when I looked at the graph of the target column (in the code cell of my code where the different feature or target columns can be plotted), it reminded me of a very wide looking parabola. For this reason, I decided to utilize sklearn's PolynomialFeatures class to generate a \"polynomial\" version of the features that would then be passed in the linear regression model to do the polynomial regression. In the end, this worked very well, achieving a MSE of around 0.00024557, indicating a successful model that is also relatively lightweight computation-wise in comparison to training a neural network or something more complicated."
   ]
  },
  {
   "cell_type": "code",
   "execution_count": 27,
   "metadata": {},
   "outputs": [
    {
     "name": "stdout",
     "output_type": "stream",
     "text": [
      "Best degree for polynomial regression:  2\n",
      "MSE for regression with the best degree:  0.0002455703642003869\n"
     ]
    }
   ],
   "source": [
    "from sklearn.preprocessing import PolynomialFeatures\n",
    "from sklearn.linear_model import LinearRegression\n",
    "from sklearn.pipeline import Pipeline\n",
    "from sklearn.metrics import mean_squared_error\n",
    "\n",
    "bestDegree = 0\n",
    "bestMSE = 9999999999\n",
    "degrees = [2,3,4,5]\n",
    "'''To determine what degree polynomial works the best, I decided to iterate over different possible values for the degree of the polynomial,\n",
    "    and the polynomial degree that achieved the lowest MSE is the one that was saved to be re-trained as the final model.'''\n",
    "for degreeVal in degrees:\n",
    "    model = Pipeline([('poly', PolynomialFeatures(degree=degreeVal)),('linear', LinearRegression(fit_intercept=False))])\n",
    "    model = model.fit(xTrainNormalized, yTrainNormalized)\n",
    "    preds = model.predict(xTestNormalized)\n",
    "    currentMSE = mean_squared_error(yTestNormalized, preds)\n",
    "    if  currentMSE < bestMSE:\n",
    "        bestMSE = currentMSE\n",
    "        bestDegree = degreeVal\n",
    "model = Pipeline([('poly', PolynomialFeatures(degree=bestDegree)),('linear', LinearRegression(fit_intercept=False))])\n",
    "model = model.fit(xTrainNormalized, yTrainNormalized)\n",
    "preds = model.predict(xTestNormalized)\n",
    "print('Best degree for polynomial regression: ',bestDegree)\n",
    "print('MSE for regression with the best degree: ',mean_squared_error(yTestNormalized, preds))"
   ]
  }
 ],
 "metadata": {
  "kernelspec": {
   "display_name": "Python 3.9.7 64-bit",
   "language": "python",
   "name": "python3"
  },
  "language_info": {
   "codemirror_mode": {
    "name": "ipython",
    "version": 3
   },
   "file_extension": ".py",
   "mimetype": "text/x-python",
   "name": "python",
   "nbconvert_exporter": "python",
   "pygments_lexer": "ipython3",
   "version": "3.9.7"
  },
  "orig_nbformat": 4,
  "vscode": {
   "interpreter": {
    "hash": "d8fe9279b24eb5c6c279942e41b8b8e849b3e5cb2998e15bc84e8c8ade1c1671"
   }
  }
 },
 "nbformat": 4,
 "nbformat_minor": 2
}
